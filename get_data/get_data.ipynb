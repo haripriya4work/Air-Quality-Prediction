{
 "cells": [
  {
   "cell_type": "code",
   "execution_count": null,
   "metadata": {},
   "outputs": [
    {
     "name": "stdout",
     "output_type": "stream",
     "text": [
      "       day  month  year  tavg  tmin  tmax  prcp\n",
      "10189   24     11  2017  17.1   7.6  26.1   NaN\n",
      "10190   25     11  2017  16.9   8.6  26.5   NaN\n",
      "10191   26     11  2017  16.9   8.6  27.5   NaN\n",
      "10192   27     11  2017  16.2   9.0  27.5   NaN\n",
      "10193   28     11  2017  15.2   8.6  28.4   NaN\n",
      "       day  month  year  tavg  tmin  tmax  prcp\n",
      "11135   27      6  2020  34.8  28.2  40.0   0.0\n",
      "11136   28      6  2020  36.9  29.4  40.0   NaN\n",
      "11137   29      6  2020  35.9  28.4  41.0   NaN\n",
      "11138   30      6  2020  33.2  24.6  40.7   NaN\n",
      "11139    1      7  2020  34.2  28.8  38.0   NaN\n"
     ]
    }
   ],
   "source": [
    "import pandas as pd\n",
    "\n",
    "# Load the updated dataset\n",
    "file_path = r'C:\\Users\\Hari\\Desktop\\air-quality-predictor\\data\\Delhi_NCR_1990_2022_Safdarjung_updated.csv'\n",
    "df = pd.read_csv(file_path)\n",
    "\n",
    "# Convert 'day', 'month', and 'year' columns to datetime format\n",
    "df['date'] = pd.to_datetime(df[['year', 'month', 'day']])\n",
    "\n",
    "# Define the start and end dates for filtering\n",
    "start_date = pd.to_datetime('2017-11-24')\n",
    "end_date = pd.to_datetime('2020-07-01')\n",
    "\n",
    "# Filter the DataFrame to include only the rows within the date range\n",
    "df_filtered = df[(df['date'] >= start_date) & (df['date'] <= end_date)]\n",
    "\n",
    "# Drop the now-redundant 'date' column\n",
    "df_filtered = df_filtered.drop(columns=['date'])\n",
    "\n",
    "# Save the filtered DataFrame to a new CSV file\n",
    "df_filtered.to_csv(r'C:\\Users\\Hari\\Desktop\\air-quality-predictor\\data\\Delhi_NCR_1990_2022_Safdarjung_filtered.csv', index=False)\n",
    "\n",
    "print(df_filtered.head())\n",
    "print(df_filtered.tail())"
   ]
  },
  {
   "cell_type": "code",
   "execution_count": null,
   "metadata": {},
   "outputs": [
    {
     "name": "stderr",
     "output_type": "stream",
     "text": [
      "C:\\Users\\Hari\\AppData\\Local\\Temp\\ipykernel_17592\\3472819436.py:5: DtypeWarning: Columns (15) have mixed types. Specify dtype option on import or set low_memory=False.\n",
      "  df = pd.read_csv(file_path)\n"
     ]
    },
    {
     "name": "stdout",
     "output_type": "stream",
     "text": [
      "   day  month  year  hour StationId  PM2.5    PM10    NO    NO2    NOx    NH3  \\\n",
      "0   24     11  2017    17     AP001  60.50   98.00  2.35  30.80  18.25   8.50   \n",
      "1   24     11  2017    18     AP001  65.50  111.25  2.70  24.20  15.07   9.77   \n",
      "2   24     11  2017    19     AP001  80.00  132.00  2.10  25.18  15.15  12.02   \n",
      "3   24     11  2017    20     AP001  81.50  133.25  1.95  16.25  10.23  11.58   \n",
      "4   24     11  2017    21     AP001  75.25  116.00  1.43  17.48  10.43  12.03   \n",
      "\n",
      "    CO    SO2      O3  Benzene  Toluene  Xylene  AQI AQI_Bucket  \n",
      "0  0.1  11.85  126.40      0.1     6.10    0.10  NaN        NaN  \n",
      "1  0.1  13.17  117.12      0.1     6.25    0.15  NaN        NaN  \n",
      "2  0.1  12.08   98.98      0.2     5.98    0.18  NaN        NaN  \n",
      "3  0.1  10.47  112.20      0.2     6.72    0.10  NaN        NaN  \n",
      "4  0.1   9.12  106.35      0.2     5.75    0.08  NaN        NaN  \n"
     ]
    }
   ],
   "source": [
    "import pandas as pd\n",
    "\n",
    "# Load the dataset\n",
    "file_path = r'C:\\Users\\Hari\\Desktop\\air-quality-predictor\\data\\station_hour.csv'\n",
    "df = pd.read_csv(file_path)\n",
    "\n",
    "# Convert 'Datetime' column to datetime format\n",
    "df['Datetime'] = pd.to_datetime(df['Datetime'])\n",
    "\n",
    "# Extract day, month, and year from the 'Datetime' column\n",
    "df['day'] = df['Datetime'].dt.day\n",
    "df['month'] = df['Datetime'].dt.month\n",
    "df['year'] = df['Datetime'].dt.year\n",
    "df['hour'] = df['Datetime'].dt.hour  # Extract hour if needed\n",
    "\n",
    "# Drop the original 'Datetime' column\n",
    "df = df.drop(columns=['Datetime'])\n",
    "\n",
    "# Reorder columns to place 'day', 'month', 'year', and 'hour' first\n",
    "df = df[['day', 'month', 'year', 'hour'] + [col for col in df.columns if col not in ['day', 'month', 'year', 'hour']]]\n",
    "\n",
    "# Save the updated DataFrame to a new CSV file\n",
    "df.to_csv(r'C:\\Users\\Hari\\Desktop\\air-quality-predictor\\data\\station_hour_updated.csv', index=False)\n",
    "\n",
    "print(df.head())\n"
   ]
  },
  {
   "cell_type": "code",
   "execution_count": null,
   "metadata": {},
   "outputs": [
    {
     "name": "stderr",
     "output_type": "stream",
     "text": [
      "C:\\Users\\Hari\\AppData\\Local\\Temp\\ipykernel_17592\\476717866.py:9: DtypeWarning: Columns (18) have mixed types. Specify dtype option on import or set low_memory=False.\n",
      "  station_df = pd.read_csv(station_file_path)\n"
     ]
    },
    {
     "name": "stdout",
     "output_type": "stream",
     "text": [
      "   day  month  year  hour StationId  PM2.5    PM10    NO    NO2    NOx  ...  \\\n",
      "0   24     11  2017    17     AP001  60.50   98.00  2.35  30.80  18.25  ...   \n",
      "1   24     11  2017    18     AP001  65.50  111.25  2.70  24.20  15.07  ...   \n",
      "2   24     11  2017    19     AP001  80.00  132.00  2.10  25.18  15.15  ...   \n",
      "3   24     11  2017    20     AP001  81.50  133.25  1.95  16.25  10.23  ...   \n",
      "4   24     11  2017    21     AP001  75.25  116.00  1.43  17.48  10.43  ...   \n",
      "\n",
      "       O3  Benzene  Toluene  Xylene  AQI  AQI_Bucket  tavg  tmin  tmax  prcp  \n",
      "0  126.40      0.1     6.10    0.10  NaN         NaN  17.1   7.6  26.1   0.0  \n",
      "1  117.12      0.1     6.25    0.15  NaN         NaN  17.1   7.6  26.1   0.0  \n",
      "2   98.98      0.2     5.98    0.18  NaN         NaN  17.1   7.6  26.1   0.0  \n",
      "3  112.20      0.2     6.72    0.10  NaN         NaN  17.1   7.6  26.1   0.0  \n",
      "4  106.35      0.2     5.75    0.08  NaN         NaN  17.1   7.6  26.1   0.0  \n",
      "\n",
      "[5 rows x 23 columns]\n"
     ]
    }
   ],
   "source": [
    "import pandas as pd\n",
    "\n",
    "# Load the filtered temperature dataset\n",
    "temp_file_path = r'C:\\Users\\Hari\\Desktop\\air-quality-predictor\\data\\Delhi_NCR_1990_2022_Safdarjung_filtered.csv'\n",
    "temp_df = pd.read_csv(temp_file_path)\n",
    "\n",
    "# Load the station hour dataset\n",
    "station_file_path = r'C:\\Users\\Hari\\Desktop\\air-quality-predictor\\data\\station_hour_updated.csv'\n",
    "station_df = pd.read_csv(station_file_path)\n",
    "\n",
    "# Ensure all columns from the temperature dataset are included in the combined dataset\n",
    "# For this example, we assume the temperature dataset has 'day', 'month', 'year', and other relevant columns\n",
    "temp_df_combined = temp_df.groupby(['day', 'month', 'year'], as_index=False).agg({\n",
    "    'tavg': 'mean',\n",
    "    'tmin': 'mean',\n",
    "    'tmax': 'mean',\n",
    "    'prcp': 'sum'  # Aggregation functions for other columns as needed\n",
    "})\n",
    "\n",
    "# Merge temperature data with station hour data based on day, month, and year\n",
    "merged_df = pd.merge(station_df, temp_df_combined, on=['day', 'month', 'year'], how='left')\n",
    "\n",
    "# Save the combined DataFrame to a new CSV file\n",
    "merged_file_path = r'C:\\Users\\Hari\\Desktop\\air-quality-predictor\\data\\station_hour_with_temp.csv'\n",
    "merged_df.to_csv(merged_file_path, index=False)\n",
    "\n",
    "print(merged_df.head())\n",
    "\n"
   ]
  },
  {
   "cell_type": "code",
   "execution_count": null,
   "metadata": {},
   "outputs": [
    {
     "name": "stderr",
     "output_type": "stream",
     "text": [
      "C:\\Users\\Hari\\AppData\\Local\\Temp\\ipykernel_17592\\1736537646.py:10: DtypeWarning: Columns (18) have mixed types. Specify dtype option on import or set low_memory=False.\n",
      "  station_df = pd.read_csv(station_file_path)\n"
     ]
    },
    {
     "name": "stdout",
     "output_type": "stream",
     "text": [
      "   day  month  year  hour StationId  PM2.5    PM10    NO    NO2    NOx  ...  \\\n",
      "0   24     11  2017    17     AP001  60.50   98.00  2.35  30.80  18.25  ...   \n",
      "1   24     11  2017    18     AP001  65.50  111.25  2.70  24.20  15.07  ...   \n",
      "2   24     11  2017    19     AP001  80.00  132.00  2.10  25.18  15.15  ...   \n",
      "3   24     11  2017    20     AP001  81.50  133.25  1.95  16.25  10.23  ...   \n",
      "4   24     11  2017    21     AP001  75.25  116.00  1.43  17.48  10.43  ...   \n",
      "\n",
      "   AQI_Bucket  TEMP  tmin  tmax  prcp         PRES       DEWP  RAIN  \\\n",
      "0         NaN  17.1   7.6  26.1   0.0  1018.416945  12.321096   0.0   \n",
      "1         NaN  17.1   7.6  26.1   0.0  1030.063256  13.927346   0.0   \n",
      "2         NaN  17.1   7.6  26.1   0.0  1022.193436  11.507530   0.0   \n",
      "3         NaN  17.1   7.6  26.1   0.0  1018.141823   8.728048   0.0   \n",
      "4         NaN  17.1   7.6  26.1   0.0  1009.655836   7.770452   0.0   \n",
      "\n",
      "           wd       WSPM  \n",
      "0   70.603359  14.810371  \n",
      "1  112.172908   4.649929  \n",
      "2  349.283080   9.156327  \n",
      "3  189.183347   1.011632  \n",
      "4  291.799889  11.017287  \n",
      "\n",
      "[5 rows x 28 columns]\n"
     ]
    }
   ],
   "source": [
    "import pandas as pd\n",
    "import numpy as np\n",
    "\n",
    "# Load the filtered temperature dataset\n",
    "temp_file_path = r'C:\\Users\\Hari\\Desktop\\air-quality-predictor\\data\\Delhi_NCR_1990_2022_Safdarjung_filtered.csv'\n",
    "temp_df = pd.read_csv(temp_file_path)\n",
    "\n",
    "# Load the station hour dataset\n",
    "station_file_path = r'C:\\Users\\Hari\\Desktop\\air-quality-predictor\\data\\station_hour_updated.csv'\n",
    "station_df = pd.read_csv(station_file_path)\n",
    "\n",
    "# Ensure all columns from the temperature dataset are included in the combined dataset\n",
    "temp_df_combined = temp_df.groupby(['day', 'month', 'year'], as_index=False).agg({\n",
    "    'tavg': 'mean',\n",
    "    'tmin': 'mean',\n",
    "    'tmax': 'mean',\n",
    "    'prcp': 'sum'  # Aggregation functions for other columns as needed\n",
    "})\n",
    "\n",
    "# Merge temperature data with station hour data based on day, month, and year\n",
    "merged_df = pd.merge(station_df, temp_df_combined, on=['day', 'month', 'year'], how='left')\n",
    "\n",
    "# Synthesize additional columns\n",
    "# Generate synthetic data for PRES, DEWP, RAIN, wd, WSPM based on plausible ranges or distributions\n",
    "\n",
    "# Example ranges (you can adjust these based on real data or domain knowledge)\n",
    "np.random.seed(0)  # For reproducibility\n",
    "\n",
    "# Pressure (PRES) in hPa\n",
    "merged_df['PRES'] = np.random.uniform(980, 1050, size=len(merged_df))\n",
    "\n",
    "# Dew Point (DEWP) in degrees Celsius\n",
    "merged_df['DEWP'] = merged_df['tavg'] - np.random.uniform(0, 10, size=len(merged_df))\n",
    "\n",
    "# Rain (RAIN) in mm (using prcp for this)\n",
    "merged_df['RAIN'] = merged_df['prcp']\n",
    "\n",
    "# Wind direction (wd) in degrees\n",
    "merged_df['wd'] = np.random.uniform(0, 360, size=len(merged_df))\n",
    "\n",
    "# Wind speed (WSPM) in m/s\n",
    "merged_df['WSPM'] = np.random.uniform(0, 15, size=len(merged_df))\n",
    "\n",
    "# Rename tavg to TEMP to match the desired output\n",
    "merged_df.rename(columns={'tavg': 'TEMP'}, inplace=True)\n",
    "\n",
    "# Save the combined DataFrame to a new CSV file\n",
    "merged_file_path = r'C:\\Users\\Hari\\Desktop\\air-quality-predictor\\data\\station_hour_with_temp_synthesized.csv'\n",
    "merged_df.to_csv(merged_file_path, index=False)\n",
    "\n",
    "print(merged_df.head())\n"
   ]
  },
  {
   "cell_type": "markdown",
   "metadata": {},
   "source": []
  }
 ],
 "metadata": {
  "kernelspec": {
   "display_name": "Python 3",
   "language": "python",
   "name": "python3"
  },
  "language_info": {
   "codemirror_mode": {
    "name": "ipython",
    "version": 3
   },
   "file_extension": ".py",
   "mimetype": "text/x-python",
   "name": "python",
   "nbconvert_exporter": "python",
   "pygments_lexer": "ipython3",
   "version": "3.10.10"
  }
 },
 "nbformat": 4,
 "nbformat_minor": 2
}
