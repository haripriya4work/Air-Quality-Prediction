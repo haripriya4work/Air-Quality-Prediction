{
 "cells": [
  {
   "cell_type": "code",
   "execution_count": 3,
   "metadata": {},
   "outputs": [
    {
     "name": "stdout",
     "output_type": "stream",
     "text": [
      "                          No  year  month  day  hour  PM2.5  PM10   SO2  \\\n",
      "datetime                                                                  \n",
      "2015-01-01 01:00:00  2261544  2015      1    1     1    NaN   NaN  6.42   \n",
      "2015-01-01 01:00:00  1067399  2015      1    1     1    NaN   NaN  0.50   \n",
      "2015-01-01 01:00:00  1697784  2015      1    1     1    NaN   NaN   NaN   \n",
      "2015-01-01 01:00:00  1394228  2015      1    1     1    NaN   NaN  2.95   \n",
      "2015-01-01 01:00:00   733580  2015      1    1     1    NaN   NaN  1.50   \n",
      "\n",
      "                       NO2     CO     O3  TEMP         PRES  DEWP  RAIN  \\\n",
      "datetime                                                                  \n",
      "2015-01-01 01:00:00  10.65   0.89    NaN   NaN  1019.942798   NaN   NaN   \n",
      "2015-01-01 01:00:00  39.00    NaN   3.00   NaN  1006.436384   NaN   NaN   \n",
      "2015-01-01 01:00:00    NaN   0.00    NaN   NaN   982.605457   NaN   NaN   \n",
      "2015-01-01 01:00:00  14.85   0.19  12.41   NaN  1013.800371   NaN   NaN   \n",
      "2015-01-01 01:00:00  65.00  18.00   3.50   NaN  1039.554576   NaN   NaN   \n",
      "\n",
      "                             wd       WSPM  station  \n",
      "datetime                                             \n",
      "2015-01-01 01:00:00   52.140676   4.151382      NaN  \n",
      "2015-01-01 01:00:00  133.993030  11.319052      NaN  \n",
      "2015-01-01 01:00:00    1.635417   8.824128      NaN  \n",
      "2015-01-01 01:00:00  140.764752   7.534309      NaN  \n",
      "2015-01-01 01:00:00  351.513997  11.789938      NaN  \n"
     ]
    }
   ],
   "source": [
    "import pandas as pd\n",
    "from statsmodels.tsa.holtwinters import ExponentialSmoothing\n",
    "import matplotlib.pyplot as plt\n",
    "\n",
    "# Load the dataset\n",
    "data = pd.read_csv('C:\\\\Users\\\\Hari\\\\Desktop\\\\air-quality-predictor\\\\AirQualityData\\\\combined_dataset.csv')\n",
    "\n",
    "# Create a datetime column\n",
    "data['datetime'] = pd.to_datetime(data[['year', 'month', 'day', 'hour']])\n",
    "\n",
    "# Set datetime as index\n",
    "data.set_index('datetime', inplace=True)\n",
    "\n",
    "# Sort the DataFrame by the datetime index\n",
    "data.sort_index(inplace=True)\n",
    "\n",
    "# Check the first few rows of the dataframe\n",
    "print(data.head())"
   ]
  },
  {
   "cell_type": "code",
   "execution_count": 4,
   "metadata": {},
   "outputs": [],
   "source": [
    "# Define the training set\n",
    "train = data['PM2.5'][:'2018-12-31']  # Adjust the date as per your dataset\n",
    "\n",
    "# Define the testing set\n",
    "test = data['PM2.5']['2019-01-01':]  # Adjust the date as per your dataset"
   ]
  },
  {
   "cell_type": "code",
   "execution_count": 5,
   "metadata": {},
   "outputs": [
    {
     "name": "stderr",
     "output_type": "stream",
     "text": [
      "c:\\Users\\Hari\\AppData\\Local\\Programs\\Python\\Python310\\lib\\site-packages\\statsmodels\\tsa\\base\\tsa_model.py:473: ValueWarning: A date index has been provided, but it has no associated frequency information and so will be ignored when e.g. forecasting.\n",
      "  self._init_dates(dates, freq)\n",
      "c:\\Users\\Hari\\AppData\\Local\\Programs\\Python\\Python310\\lib\\site-packages\\statsmodels\\tsa\\holtwinters\\model.py:918: ConvergenceWarning: Optimization failed to converge. Check mle_retvals.\n",
      "  warnings.warn(\n"
     ]
    }
   ],
   "source": [
    "# Fit the Exponential Smoothing model\n",
    "model = ExponentialSmoothing(train, trend='add', seasonal=None, seasonal_periods=24).fit()"
   ]
  },
  {
   "cell_type": "code",
   "execution_count": 6,
   "metadata": {},
   "outputs": [
    {
     "name": "stderr",
     "output_type": "stream",
     "text": [
      "c:\\Users\\Hari\\AppData\\Local\\Programs\\Python\\Python310\\lib\\site-packages\\statsmodels\\tsa\\base\\tsa_model.py:836: ValueWarning: No supported index is available. Prediction results will be given with an integer index beginning at `start`.\n",
      "  return get_prediction_index(\n",
      "c:\\Users\\Hari\\AppData\\Local\\Programs\\Python\\Python310\\lib\\site-packages\\statsmodels\\tsa\\base\\tsa_model.py:836: FutureWarning: No supported index is available. In the next version, calling this method in a model without a supported index will result in an exception.\n",
      "  return get_prediction_index(\n"
     ]
    }
   ],
   "source": [
    "# Forecast the values\n",
    "forecast = model.forecast(len(test))\n",
    "\n",
    "# Add the forecast to the test dataframe\n",
    "test = test.copy()\n",
    "test['Predicted_PM2.5'] = forecast"
   ]
  },
  {
   "cell_type": "code",
   "execution_count": 8,
   "metadata": {},
   "outputs": [
    {
     "name": "stdout",
     "output_type": "stream",
     "text": [
      "Initial data check:\n",
      "   year  month  day  hour  PM2.5\n",
      "0  2017     11   24    17  60.50\n",
      "1  2017     11   24    18  65.50\n",
      "2  2017     11   24    19  80.00\n",
      "3  2017     11   24    20  81.50\n",
      "4  2017     11   24    21  75.25\n"
     ]
    }
   ],
   "source": [
    "import pandas as pd\n",
    "\n",
    "# Load the dataset\n",
    "data = pd.read_csv('C:\\\\Users\\\\Hari\\\\Desktop\\\\air-quality-predictor\\\\AirQualityData\\\\combined_dataset.csv')\n",
    "\n",
    "# Check the first few rows to verify PM2.5 values\n",
    "print(\"Initial data check:\")\n",
    "print(data[['year', 'month', 'day', 'hour', 'PM2.5']].head())\n"
   ]
  },
  {
   "cell_type": "code",
   "execution_count": 9,
   "metadata": {},
   "outputs": [],
   "source": [
    "# Convert columns to integer type\n",
    "data['year'] = data['year'].astype(int)\n",
    "data['month'] = data['month'].astype(int)\n",
    "data['day'] = data['day'].astype(int)\n",
    "data['hour'] = data['hour'].astype(int)\n"
   ]
  },
  {
   "cell_type": "code",
   "execution_count": 10,
   "metadata": {},
   "outputs": [],
   "source": [
    "def create_datetime_str(row):\n",
    "    try:\n",
    "        return f\"{int(row['year'])}-{int(row['month']):02d}-{int(row['day']):02d} {int(row['hour']):02d}:00:00\"\n",
    "    except ValueError:\n",
    "        return pd.NaT\n",
    "\n",
    "# Create a new column 'datetime_str' for slicing\n",
    "data['datetime_str'] = data.apply(create_datetime_str, axis=1)\n",
    "\n",
    "# Drop rows where 'datetime_str' could not be created\n",
    "data = data.dropna(subset=['datetime_str'])\n",
    "\n",
    "# Sort the data by 'datetime_str' for consistent slicing\n",
    "data.sort_values('datetime_str', inplace=True)\n"
   ]
  },
  {
   "cell_type": "code",
   "execution_count": 11,
   "metadata": {},
   "outputs": [
    {
     "name": "stdout",
     "output_type": "stream",
     "text": [
      "\n",
      "Cleaned training set:\n",
      "            No  year  month  day  hour   PM2.5    PM10   SO2    NO2    CO  \\\n",
      "485877  485878  2015      1    1     1  310.65     NaN  8.23  17.73   NaN   \n",
      "285144  285145  2015      1    1     1  598.51  935.18   NaN  35.69  0.58   \n",
      "485878  485879  2015      1    1     2  224.96     NaN  8.13  19.20   NaN   \n",
      "285145  285146  2015      1    1     2  655.93     NaN   NaN  35.58  0.55   \n",
      "285146  285147  2015      1    1     3  657.68     NaN   NaN  35.45  0.51   \n",
      "\n",
      "            O3  TEMP         PRES  DEWP  RAIN          wd       WSPM  station  \\\n",
      "485877     NaN   NaN  1028.365709   NaN   NaN  144.470231  13.371459      NaN   \n",
      "285144  108.02   NaN  1014.166480   NaN   NaN  277.478452   2.896550      NaN   \n",
      "485878     NaN   NaN  1047.740289   NaN   NaN  269.142737   8.711257      NaN   \n",
      "285145  121.38   NaN  1031.915247   NaN   NaN  197.230517   8.372552      NaN   \n",
      "285146     NaN   NaN   994.794504   NaN   NaN   47.021617  12.176558      NaN   \n",
      "\n",
      "               datetime_str  \n",
      "485877  2015-01-01 01:00:00  \n",
      "285144  2015-01-01 01:00:00  \n",
      "485878  2015-01-01 02:00:00  \n",
      "285145  2015-01-01 02:00:00  \n",
      "285146  2015-01-01 03:00:00  \n",
      "\n",
      "Cleaned testing set:\n",
      "              No  year  month  day  hour   PM2.5    PM10    SO2    NO2    CO  \\\n",
      "1155646  1155647  2019      1    1     0  444.00  636.00  13.58  75.78  5.25   \n",
      "320207    320208  2019      1    1     0  458.64  708.62    NaN  34.47  6.71   \n",
      "2402219  2402220  2019      1    1     0  398.64     NaN    NaN  64.85  1.45   \n",
      "1429290  1429291  2019      1    1     0   64.22     NaN  10.70  29.94  0.88   \n",
      "1732846  1732847  2019      1    1     0   77.10  198.19  19.29  78.15  2.59   \n",
      "\n",
      "            O3  TEMP         PRES       DEWP  RAIN          wd       WSPM  \\\n",
      "1155646  11.40  12.8  1027.783764   9.256664   0.0  216.598983   0.355172   \n",
      "320207   49.92  12.8  1047.174091   8.495451   0.0  273.535287   7.845553   \n",
      "2402219   6.63  12.8   988.163310  11.951450   0.0  211.838880   3.381166   \n",
      "1429290  26.53  12.8  1021.771946   4.708590   0.0  288.419910  14.435875   \n",
      "1732846  40.50  12.8  1032.245795   6.000270   0.0  132.552832  13.662865   \n",
      "\n",
      "         station         datetime_str  \n",
      "1155646      NaN  2019-01-01 00:00:00  \n",
      "320207       NaN  2019-01-01 00:00:00  \n",
      "2402219      NaN  2019-01-01 00:00:00  \n",
      "1429290      NaN  2019-01-01 00:00:00  \n",
      "1732846      NaN  2019-01-01 00:00:00  \n"
     ]
    }
   ],
   "source": [
    "# Drop rows with NaN values in 'PM2.5' for the entire dataset\n",
    "data = data.dropna(subset=['PM2.5'])\n",
    "\n",
    "# After cleaning, re-create training and testing sets if needed\n",
    "train = data[data['datetime_str'] <= '2018-12-31']\n",
    "test = data[data['datetime_str'] >= '2019-01-01']\n",
    "\n",
    "# Check the results\n",
    "print(\"\\nCleaned training set:\")\n",
    "print(train.head())\n",
    "\n",
    "print(\"\\nCleaned testing set:\")\n",
    "print(test.head())"
   ]
  },
  {
   "cell_type": "code",
   "execution_count": 12,
   "metadata": {},
   "outputs": [
    {
     "name": "stdout",
     "output_type": "stream",
     "text": [
      "\n",
      "Training set check:\n",
      "               datetime_str   PM2.5\n",
      "485877  2015-01-01 01:00:00  310.65\n",
      "285144  2015-01-01 01:00:00  598.51\n",
      "485878  2015-01-01 02:00:00  224.96\n",
      "285145  2015-01-01 02:00:00  655.93\n",
      "285146  2015-01-01 03:00:00  657.68\n",
      "\n",
      "Testing set check:\n",
      "                datetime_str   PM2.5\n",
      "1155646  2019-01-01 00:00:00  444.00\n",
      "320207   2019-01-01 00:00:00  458.64\n",
      "2402219  2019-01-01 00:00:00  398.64\n",
      "1429290  2019-01-01 00:00:00   64.22\n",
      "1732846  2019-01-01 00:00:00   77.10\n"
     ]
    }
   ],
   "source": [
    "# Define the training set using the 'datetime_str' column\n",
    "train = data[data['datetime_str'] <= '2018-12-31']\n",
    "\n",
    "# Define the testing set using the 'datetime_str' column\n",
    "test = data[data['datetime_str'] >= '2019-01-01']\n",
    "\n",
    "# Check the first few rows of train and test sets\n",
    "print(\"\\nTraining set check:\")\n",
    "print(train[['datetime_str', 'PM2.5']].head())\n",
    "\n",
    "print(\"\\nTesting set check:\")\n",
    "print(test[['datetime_str', 'PM2.5']].head())"
   ]
  },
  {
   "cell_type": "code",
   "execution_count": 13,
   "metadata": {},
   "outputs": [
    {
     "name": "stderr",
     "output_type": "stream",
     "text": [
      "c:\\Users\\Hari\\AppData\\Local\\Programs\\Python\\Python310\\lib\\site-packages\\statsmodels\\tsa\\base\\tsa_model.py:473: ValueWarning: An unsupported index was provided and will be ignored when e.g. forecasting.\n",
      "  self._init_dates(dates, freq)\n",
      "c:\\Users\\Hari\\AppData\\Local\\Programs\\Python\\Python310\\lib\\site-packages\\statsmodels\\tsa\\base\\tsa_model.py:473: ValueWarning: An unsupported index was provided and will be ignored when e.g. forecasting.\n",
      "  self._init_dates(dates, freq)\n",
      "c:\\Users\\Hari\\AppData\\Local\\Programs\\Python\\Python310\\lib\\site-packages\\statsmodels\\tsa\\base\\tsa_model.py:473: ValueWarning: An unsupported index was provided and will be ignored when e.g. forecasting.\n",
      "  self._init_dates(dates, freq)\n",
      "c:\\Users\\Hari\\AppData\\Local\\Programs\\Python\\Python310\\lib\\site-packages\\statsmodels\\tsa\\base\\tsa_model.py:836: ValueWarning: No supported index is available. Prediction results will be given with an integer index beginning at `start`.\n",
      "  return get_prediction_index(\n",
      "c:\\Users\\Hari\\AppData\\Local\\Programs\\Python\\Python310\\lib\\site-packages\\statsmodels\\tsa\\base\\tsa_model.py:836: FutureWarning: No supported index is available. In the next version, calling this method in a model without a supported index will result in an exception.\n",
      "  return get_prediction_index(\n",
      "C:\\Users\\Hari\\AppData\\Local\\Temp\\ipykernel_15508\\542309964.py:11: SettingWithCopyWarning: \n",
      "A value is trying to be set on a copy of a slice from a DataFrame.\n",
      "Try using .loc[row_indexer,col_indexer] = value instead\n",
      "\n",
      "See the caveats in the documentation: https://pandas.pydata.org/pandas-docs/stable/user_guide/indexing.html#returning-a-view-versus-a-copy\n",
      "  test['Predicted_PM2.5'] = model_fit.forecast(steps=len(test))\n"
     ]
    },
    {
     "name": "stdout",
     "output_type": "stream",
     "text": [
      "\n",
      "Actual vs Predicted values:\n",
      "          PM2.5  Predicted_PM2.5\n",
      "1155646  444.00       332.375214\n",
      "320207   458.64              NaN\n",
      "2402219  398.64              NaN\n",
      "1429290   64.22       332.375214\n",
      "1732846   77.10       332.375214\n",
      "...         ...              ...\n",
      "1000313   18.69       332.375214\n",
      "1046263   38.00       332.375214\n",
      "1115589   48.21       332.375214\n",
      "1518436   23.00       332.375214\n",
      "2589082   10.50              NaN\n",
      "\n",
      "[1084627 rows x 2 columns]\n"
     ]
    },
    {
     "name": "stderr",
     "output_type": "stream",
     "text": [
      "C:\\Users\\Hari\\AppData\\Roaming\\Python\\Python310\\site-packages\\IPython\\core\\pylabtools.py:152: UserWarning: Creating legend with loc=\"best\" can be slow with large amounts of data.\n",
      "  fig.canvas.print_figure(bytes_io, **kw)\n"
     ]
    },
    {
     "data": {
      "image/png": "[encoded data removed]",
      "text/plain": [
       "<Figure size 1000x600 with 1 Axes>"
      ]
     },
     "metadata": {},
     "output_type": "display_data"
    },
    {
     "name": "stdout",
     "output_type": "stream",
     "text": [
      "Execution Time: 594.3441984653473 seconds\n"
     ]
    }
   ],
   "source": [
    "import time\n",
    "from statsmodels.tsa.arima.model import ARIMA\n",
    "\n",
    "start_time = time.time()\n",
    "\n",
    "# Fit the ARIMA model on the training data\n",
    "model = ARIMA(train['PM2.5'].dropna(), order=(1, 1, 1))\n",
    "model_fit = model.fit()\n",
    "\n",
    "# Forecast the values for the test set\n",
    "test['Predicted_PM2.5'] = model_fit.forecast(steps=len(test))\n",
    "\n",
    "# Check the actual and predicted values\n",
    "print(\"\\nActual vs Predicted values:\")\n",
    "print(test[['PM2.5', 'Predicted_PM2.5']])\n",
    "\n",
    "# Plot the results\n",
    "import matplotlib.pyplot as plt\n",
    "\n",
    "plt.figure(figsize=(10, 6))\n",
    "plt.plot(train['datetime_str'], train['PM2.5'], label='Training Data')\n",
    "plt.plot(test['datetime_str'], test['PM2.5'], label='Actual PM2.5')\n",
    "plt.plot(test['datetime_str'], test['Predicted_PM2.5'], label='Predicted PM2.5')\n",
    "plt.xlabel('Datetime')\n",
    "plt.ylabel('PM2.5')\n",
    "plt.legend()\n",
    "plt.show()\n",
    "\n",
    "end_time = time.time()\n",
    "print(f\"Execution Time: {end_time - start_time} seconds\")\n"
   ]
  }
 ],
 "metadata": {
  "kernelspec": {
   "display_name": "Python 3",
   "language": "python",
   "name": "python3"
  },
  "language_info": {
   "codemirror_mode": {
    "name": "ipython",
    "version": 3
   },
   "file_extension": ".py",
   "mimetype": "text/x-python",
   "name": "python",
   "nbconvert_exporter": "python",
   "pygments_lexer": "ipython3",
   "version": "3.10.10"
  }
 },
 "nbformat": 4,
 "nbformat_minor": 2
}
